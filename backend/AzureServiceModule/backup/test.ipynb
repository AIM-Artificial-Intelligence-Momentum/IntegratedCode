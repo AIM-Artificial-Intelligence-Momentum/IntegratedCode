{
 "cells": [
  {
   "cell_type": "code",
   "execution_count": 5,
   "id": "efe96d2d",
   "metadata": {},
   "outputs": [],
   "source": [
    "import requests\n",
    "import os\n",
    "from dotenv import load_dotenv\n",
    "\n",
    "class AzureCLUClientREST:\n",
    "    def __init__(self):\n",
    "        load_dotenv()\n",
    "\n",
    "        self.endpoint = os.getenv(\"CLU_ENDPOINT\")  # https://your-resource.cognitiveservices.azure.com\n",
    "        self.api_key = os.getenv(\"CLU_KEY\")        # Ocp-Apim-Subscription-Key\n",
    "        self.project_name = os.getenv(\"CLU_PROJECT\")\n",
    "        self.deployment_name = os.getenv(\"CLU_DEPLOYMENT\")\n",
    "\n",
    "        if not all([self.endpoint, self.api_key, self.project_name, self.deployment_name]):\n",
    "            raise ValueError(\"CLU 관련 환경변수가 누락되었습니다. .env 파일을 확인하세요.\")\n",
    "\n",
    "        self.api_url = f\"{self.endpoint}/language/:analyze-conversations?api-version=2023-04-01\"\n",
    "\n",
    "    def analyze(self, user_input: str) -> dict:\n",
    "        headers = {\n",
    "            \"Ocp-Apim-Subscription-Key\": self.api_key,\n",
    "            \"Apim-Request-Id\": \"4ffcac1c-b2fc-48ba-bd6d-b69d9942995a\",\n",
    "            \"Content-Type\": \"application/json\"\n",
    "\n",
    "        }\n",
    "\n",
    "        body = {\n",
    "            \"kind\": \"Conversation\",\n",
    "            \"analysisInput\": {\n",
    "                \"conversationItem\": {\n",
    "                    \"id\": \"1\",\n",
    "                    \"participantId\": \"user1\",\n",
    "                    \"text\": user_input,\n",
    "                    \"modality\": \"text\",\n",
    "                    \"language\": \"ko\"\n",
    "                }\n",
    "            },\n",
    "            \"parameters\": {\n",
    "                \"projectName\": self.project_name,\n",
    "                \"deploymentName\": self.deployment_name,\n",
    "                \"verbose\": True,\n",
    "                \"stringIndexType\": \"TextElement_V8\"\n",
    "            }\n",
    "        }\n",
    "\n",
    "        response = requests.post(self.api_url, headers=headers, json=body)\n",
    "        response.raise_for_status()\n",
    "        return response.json()\n",
    "\n",
    "    def get_top_intent(self, result: dict) -> str:\n",
    "        return result[\"result\"][\"prediction\"][\"topIntent\"]\n",
    "\n",
    "    def get_entities(self, result: dict) -> list:\n",
    "        return result[\"result\"][\"prediction\"].get(\"entities\", [])\n"
   ]
  }
 ],
 "metadata": {
  "kernelspec": {
   "display_name": "base",
   "language": "python",
   "name": "python3"
  },
  "language_info": {
   "codemirror_mode": {
    "name": "ipython",
    "version": 3
   },
   "file_extension": ".py",
   "mimetype": "text/x-python",
   "name": "python",
   "nbconvert_exporter": "python",
   "pygments_lexer": "ipython3",
   "version": "3.12.7"
  }
 },
 "nbformat": 4,
 "nbformat_minor": 5
}
